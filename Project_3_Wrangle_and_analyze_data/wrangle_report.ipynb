{
 "cells": [
  {
   "cell_type": "markdown",
   "metadata": {},
   "source": [
    "# Wrangle Report\n",
    "\n",
    "### By Diego ZUNIGA"
   ]
  },
  {
   "cell_type": "markdown",
   "metadata": {},
   "source": [
    "During this project a database is built gathering data from different sources. Then the data is assesses and finally cleaned to produce some insights and visualizations.\n",
    "Now the followed process will be described."
   ]
  },
  {
   "cell_type": "markdown",
   "metadata": {},
   "source": [
    "## Gathering\n",
    "\n",
    "In order to get all the information necessary to build the database, the information was collected from three different sources. The first one is a file with the tweeter information from the account WeRateDogs, the second one is a file coming from some automatic classification algorithms and the third one was actually the result of querying the tweeter API.\n",
    "In order to query the API of tweeter it was necessary to create an account for developers and get permissions to send some requests. After that using the python's library Tweepy the information of all the tweets was consulted using their ids."
   ]
  },
  {
   "cell_type": "markdown",
   "metadata": {},
   "source": [
    "## Assesing\n",
    "\n",
    "After gathering the data it was assessed by visual inspection, and also programatically using some functions included in the pandas library.\n",
    "This assesing proccess gave as result some issues that are listed below.\n",
    "But it is important to notice that only some issues were documented and it doesn't represent the totallity of the necessary for completely wrangling the data."
   ]
  },
  {
   "cell_type": "markdown",
   "metadata": {},
   "source": [
    "### Quality\n",
    "\n",
    "#### Table 1\n",
    "- Denominator not normalized\n",
    "- 'retweeted_status_user_id' and 'retweeted_status_id' are in scientific notation, it should be a string\n",
    "- Some names are None and there are many 'a' and 'the' names which is unusual.\n",
    "- tweet_id is an integer\n",
    "- 'in_reply_to_status_id', 'in_reply_to_user_id', 'retweeted_status_id', 'retweeted_status_user_id' and 'retweeted_status_timestamp' have too few data to be relevant.\n",
    "- the minimum value in denominator is 0 which is not possible.\n",
    "\n",
    "#### Table 2\n",
    "- tweet_id is an integer\n",
    "\n",
    "#### Table 3\n",
    "- id column should be called tweet_id\n",
    "- id should be string instead of integer\n",
    "- lang should be called language\n",
    "\n",
    "### Tidyness\n",
    "\n",
    "#### Table 1\n",
    "- Type of dog should be one column\n",
    "- Rating numerator and denominator can become one column with a normalized value\n",
    "\n",
    "#### Table 2\n",
    "- This table can be merged into table 1\n",
    "\n",
    "#### Table 3\n",
    "- This table can be merged into table 1\n",
    "- There are retweets and we don't want them"
   ]
  },
  {
   "cell_type": "markdown",
   "metadata": {},
   "source": [
    "All those issues where then solved in the cleaning process."
   ]
  },
  {
   "cell_type": "markdown",
   "metadata": {},
   "source": [
    "## Cleaning\n",
    "\n",
    "During the cleaning proccess, the found issues were not solved in the order they are presented, because sometimes while solving a tidyness problem some other quality issues disappeared. But in any case all of them where mentioned and solved.\n",
    "In general every problem is taken one by one, then a solution is proposed in the definition, after the code is written in order to solve the problem itself and finally the data is assessed to see if the code did what it was intended to do."
   ]
  },
  {
   "cell_type": "markdown",
   "metadata": {},
   "source": [
    "## Storing\n",
    "\n",
    "Once the data is cleaned and ordered in one dataframe, it is stored in a file in format .csv which is supposed to be a clean and well wrangled dataframe. But as was already said, it is not exhaustive and it doesn't cover all the problems that the data can contain."
   ]
  },
  {
   "cell_type": "markdown",
   "metadata": {},
   "source": [
    "## Insights\n",
    "\n",
    "After the data is wrangled it is possible to analyse it and produce some insights and visualisations.\n",
    "So with this purpose some variables were compared and it was found that the pupper dog type is the most common.\n",
    "And also the twitter rating of the dogs was compared with the tweeter measures like favorite counter and retweet counter finding a not very strong tendency but still some. It shows that when dogs were well rated by the owners who posted the tweets, it is more likely to find higher values of retweet counters and the same for the favorite counters. Which might mean that well rated dogs by their owners are more likely to be well appreciated by the social network community."
   ]
  }
 ],
 "metadata": {
  "kernelspec": {
   "display_name": "Python 3",
   "language": "python",
   "name": "python3"
  },
  "language_info": {
   "codemirror_mode": {
    "name": "ipython",
    "version": 3
   },
   "file_extension": ".py",
   "mimetype": "text/x-python",
   "name": "python",
   "nbconvert_exporter": "python",
   "pygments_lexer": "ipython3",
   "version": "3.6.3"
  }
 },
 "nbformat": 4,
 "nbformat_minor": 2
}
